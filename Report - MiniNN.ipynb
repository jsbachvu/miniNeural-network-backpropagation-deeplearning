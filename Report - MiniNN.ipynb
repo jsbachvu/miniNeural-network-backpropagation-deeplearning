{
 "cells": [
  {
   "cell_type": "markdown",
   "metadata": {},
   "source": [
    "# MiniNN Notebook "
   ]
  },
  {
   "cell_type": "markdown",
   "metadata": {},
   "source": [
    "7 décembre 2016"
   ]
  },
  {
   "cell_type": "markdown",
   "metadata": {
    "collapsed": true
   },
   "source": [
    "# Result:\n",
    "Data set: MNIST\n",
    "\n",
    "activation function: \n",
    "1. Rectified Linear Uni a = max(0,z) , f' = (a[a>0]->1)\n",
    "2. softmax\n",
    "3. sigmoid\n",
    "\n",
    "with act func (1)\n",
    "train acc: 0.96648\n",
    "\n",
    "validation acc: 0.9473"
   ]
  },
  {
   "cell_type": "markdown",
   "metadata": {
    "collapsed": true
   },
   "source": [
    "Functions : forward, backward, update, etc in the file nn_ops.py"
   ]
  },
  {
   "cell_type": "code",
   "execution_count": null,
   "metadata": {
    "collapsed": true
   },
   "outputs": [],
   "source": []
  },
  {
   "cell_type": "markdown",
   "metadata": {},
   "source": [
    "## Test Zone"
   ]
  },
  {
   "cell_type": "markdown",
   "metadata": {},
   "source": [
    "### Load data and minibatch (as in miniNN.py)"
   ]
  },
  {
   "cell_type": "code",
   "execution_count": 1,
   "metadata": {
    "collapsed": false
   },
   "outputs": [],
   "source": [
    "# Pour ne pas reload le kernel quand un fichier .py change\n",
    "%load_ext autoreload\n",
    "%autoreload 2\n",
    "\n",
    "%matplotlib inline\n",
    "import os\n",
    "import numpy as np\n",
    "import matplotlib.pyplot as plt\n",
    "import copy, math, time, sys\n",
    "import dataset_loader\n",
    "from nn_ops import *"
   ]
  },
  {
   "cell_type": "code",
   "execution_count": 2,
   "metadata": {
    "collapsed": true
   },
   "outputs": [],
   "source": [
    "\n",
    "# Retrieve the arguments \n",
    "args = parseArgs_ipython(arch = [100], act_func = \"relu\", batch_size = 500, eta = .01, n_epoch = 100)\n"
   ]
  },
  {
   "cell_type": "code",
   "execution_count": 3,
   "metadata": {
    "collapsed": false
   },
   "outputs": [
    {
     "name": "stdout",
     "output_type": "stream",
     "text": [
      "Description of the experiment\n",
      "----------\n",
      "Learning algorithm: Bprop\n",
      "Initial step-size: 0.01\n",
      "Network Architecture: [784 100  10]\n",
      "Number of parameters: 79510\n",
      "Minibatch size: 500\n",
      "Activation: relu\n",
      "----------\n"
     ]
    }
   ],
   "source": [
    "\n",
    "\n",
    "# Fix the seed for the random generator\n",
    "np.random.seed(seed=0)\n",
    "\n",
    "#############################\n",
    "### Dataset Handling\n",
    "#############################\n",
    "\n",
    "### Load the dataset\n",
    "train_set, valid_set, test_set = dataset_loader.load_mnist()\n",
    "\n",
    "### Define the dataset variables\n",
    "n_training = train_set[0].shape[0]\n",
    "n_feature = train_set[0].shape[1]\n",
    "n_label = np.max(train_set[1])+1\n",
    "\n",
    "#############################\n",
    "### Neural Network parameters\n",
    "#############################\n",
    "\n",
    "### Activation function\n",
    "act_func_name = args.act_func\n",
    "\n",
    "### Network Architecture\n",
    "nn_arch = np.array([n_feature] + args.arch + [n_label])\n",
    "\n",
    "### Create the neural network\n",
    "W,B,act_func,nb_params = initNetwork(nn_arch,act_func_name)\n",
    "\n",
    "#############################\n",
    "### Optimization parameters\n",
    "#############################\n",
    "eta = args.eta\n",
    "batch_size = args.batch_size\n",
    "n_batch = int(math.ceil(float(n_training)/batch_size))\n",
    "n_epoch = args.n_epoch \n",
    "\n",
    "#############################\n",
    "### Auxiliary variables\n",
    "#############################\n",
    "cumul_time = 0.\n",
    "\n",
    "# Convert the labels to one-hot vector\n",
    "one_hot = np.zeros((n_label,n_training))\n",
    "one_hot[train_set[1],np.arange(n_training)]=1.\n",
    "\n",
    "printDescription(\"Bprop\", eta, nn_arch, act_func_name, batch_size, nb_params)"
   ]
  },
  {
   "cell_type": "code",
   "execution_count": 4,
   "metadata": {
    "collapsed": false
   },
   "outputs": [],
   "source": [
    "### Mini-batch creation\n",
    "j = 0\n",
    "batch, one_hot_batch, mini_batch_size = getMiniBatch(j, batch_size, train_set, one_hot)\n",
    "X_bacth = batch"
   ]
  },
  {
   "cell_type": "code",
   "execution_count": 5,
   "metadata": {
    "collapsed": false
   },
   "outputs": [
    {
     "data": {
      "text/plain": [
       "(500L, 784L)"
      ]
     },
     "execution_count": 5,
     "metadata": {},
     "output_type": "execute_result"
    }
   ],
   "source": [
    "batch.shape"
   ]
  },
  {
   "cell_type": "markdown",
   "metadata": {},
   "source": [
    "### each fonction, with calculated values "
   ]
  },
  {
   "cell_type": "code",
   "execution_count": 6,
   "metadata": {
    "collapsed": false
   },
   "outputs": [],
   "source": [
    "### Forward propagation\n",
    "Y,Yp = forward(act_func, W, B, batch)\n"
   ]
  },
  {
   "cell_type": "code",
   "execution_count": 7,
   "metadata": {
    "collapsed": false
   },
   "outputs": [],
   "source": [
    "assert Y[0].shape == (n_feature, batch_size)\n",
    "assert Y[-1].shape == (10, batch_size)"
   ]
  },
  {
   "cell_type": "code",
   "execution_count": 8,
   "metadata": {
    "collapsed": false
   },
   "outputs": [],
   "source": [
    "assert Yp[0].shape == (nn_arch[1], batch_size)"
   ]
  },
  {
   "cell_type": "code",
   "execution_count": 9,
   "metadata": {
    "collapsed": false
   },
   "outputs": [
    {
     "name": "stderr",
     "output_type": "stream",
     "text": [
      "C:\\Program Files\\Anaconda2\\lib\\site-packages\\numpy\\core\\_methods.py:32: VisibleDeprecationWarning: using a non-integer number instead of an integer will result in an error in the future\n",
      "  return umr_sum(a, axis, dtype, out, keepdims)\n"
     ]
    }
   ],
   "source": [
    "\n",
    "### Compute the softmax\n",
    "out = softmax(Y[-1])\n",
    "        \n",
    "        "
   ]
  },
  {
   "cell_type": "code",
   "execution_count": 10,
   "metadata": {
    "collapsed": false
   },
   "outputs": [],
   "source": [
    "assert out.shape == (nn_arch[-1], batch_size)"
   ]
  },
  {
   "cell_type": "code",
   "execution_count": 11,
   "metadata": {
    "collapsed": false
   },
   "outputs": [],
   "source": [
    "### Compute the gradient at the top layer\n",
    "derror = out-one_hot_batch\n",
    "\n",
    "        "
   ]
  },
  {
   "cell_type": "code",
   "execution_count": 12,
   "metadata": {
    "collapsed": false
   },
   "outputs": [],
   "source": [
    "assert derror.shape == (nn_arch[-1], batch_size)"
   ]
  },
  {
   "cell_type": "code",
   "execution_count": null,
   "metadata": {
    "collapsed": false
   },
   "outputs": [],
   "source": []
  },
  {
   "cell_type": "code",
   "execution_count": null,
   "metadata": {
    "collapsed": false
   },
   "outputs": [],
   "source": []
  },
  {
   "cell_type": "code",
   "execution_count": 13,
   "metadata": {
    "collapsed": false
   },
   "outputs": [],
   "source": [
    "### Backpropagation\n",
    "gradB = backward(derror, W, Yp)\n"
   ]
  },
  {
   "cell_type": "code",
   "execution_count": 14,
   "metadata": {
    "collapsed": false
   },
   "outputs": [],
   "source": [
    "assert len(gradB) == len(nn_arch)-1\n",
    "for gradw,dim in zip(gradB,nn_arch[1:]):\n",
    "    gradw.shape = (dim,batch_size)"
   ]
  },
  {
   "cell_type": "code",
   "execution_count": 15,
   "metadata": {
    "collapsed": false
   },
   "outputs": [],
   "source": [
    "### Update the parameters\n",
    "new_W, new_B = update(eta, batch_size, W, B, gradB, Y)\n"
   ]
  },
  {
   "cell_type": "code",
   "execution_count": 16,
   "metadata": {
    "collapsed": false
   },
   "outputs": [],
   "source": [
    "### Training accuracy\n",
    "train_loss, train_accuracy = computeLoss(W, B, train_set[0], train_set[1], act_func) \n",
    "\n",
    "### Valid accuracy\n",
    "valid_loss, valid_accuracy = computeLoss(W, B, valid_set[0], valid_set[1], act_func) \n"
   ]
  },
  {
   "cell_type": "code",
   "execution_count": 17,
   "metadata": {
    "collapsed": false
   },
   "outputs": [
    {
     "data": {
      "text/plain": [
       "[0.061879999999999998, 0.062199999999999998]"
      ]
     },
     "execution_count": 17,
     "metadata": {},
     "output_type": "execute_result"
    }
   ],
   "source": [
    "[train_accuracy, valid_accuracy]"
   ]
  },
  {
   "cell_type": "code",
   "execution_count": 18,
   "metadata": {
    "collapsed": false
   },
   "outputs": [
    {
     "data": {
      "text/plain": [
       "[array([[-0.94538333, -0.96341583,  1.10676098, ..., -1.90762797,\n",
       "         -0.689435  , -0.59235028],\n",
       "        [-0.        , -0.        , -0.        , ...,  0.        ,\n",
       "          0.67769596,  0.        ],\n",
       "        [ 0.87447799,  0.86614993,  1.21733754, ..., -0.88101135,\n",
       "          2.53981916,  0.02773249],\n",
       "        ..., \n",
       "        [ 1.33807552,  1.34559832,  2.42376146, ...,  0.79582463,\n",
       "          1.63330237,  0.95396128],\n",
       "        [-0.43778557, -0.        , -0.        , ..., -1.35072294,\n",
       "         -1.87203602, -1.04154691],\n",
       "        [ 0.        ,  0.        ,  2.58826832, ..., -0.        ,\n",
       "         -0.        , -0.16207887]]),\n",
       " array([[  4.26236980e-036,   2.16895077e-075,   3.69791734e-025, ...,\n",
       "           4.69893403e-038,   6.07133111e-041,   1.40606081e-021],\n",
       "        [  9.45284153e-003,   1.29189419e-082,   9.99999994e-001, ...,\n",
       "          -1.00000000e+000,   1.07489194e-025,   4.94266333e-012],\n",
       "        [ -1.00000000e+000,  -1.00000000e+000,   4.41921863e-053, ...,\n",
       "           1.64371442e-073,   1.16480607e-049,   4.40770148e-052],\n",
       "        ..., \n",
       "        [  5.69486010e-049,   2.37885410e-094,   2.27146740e-054, ...,\n",
       "           2.96529147e-066,   2.84782734e-054,   4.40770148e-052],\n",
       "        [  5.69486010e-049,   6.57217452e-111,   2.27146740e-054, ...,\n",
       "           1.64371442e-073,   2.84782734e-054,   4.40770148e-052],\n",
       "        [  8.64979503e-042,   6.57575656e-064,   2.64179948e-011, ...,\n",
       "           5.60591245e-051,   1.11782524e-023,  -1.00000000e+000]])]"
      ]
     },
     "execution_count": 18,
     "metadata": {},
     "output_type": "execute_result"
    }
   ],
   "source": [
    "gradB"
   ]
  },
  {
   "cell_type": "code",
   "execution_count": null,
   "metadata": {
    "collapsed": true
   },
   "outputs": [],
   "source": []
  },
  {
   "cell_type": "code",
   "execution_count": null,
   "metadata": {
    "collapsed": true
   },
   "outputs": [],
   "source": []
  },
  {
   "cell_type": "markdown",
   "metadata": {},
   "source": [
    "## Training"
   ]
  },
  {
   "cell_type": "code",
   "execution_count": 19,
   "metadata": {
    "collapsed": false,
    "scrolled": false
   },
   "outputs": [
    {
     "name": "stdout",
     "output_type": "stream",
     "text": [
      "0 1.2477868366 1.35754162957 0.66136 1.29441347623 0.6703 1\n",
      "1 2.5069904637 0.830530765597 0.79184 0.795602915167 0.8023 1\n",
      "2 3.7764434984 0.669324678727 0.82854 0.64738756728 0.8394 1\n",
      "3 5.06189494446 0.589809224979 0.84838 0.579424574595 0.8551 1\n",
      "4 6.57996528196 0.516451294674 0.86362 0.510958560364 0.8712 1\n",
      "5 8.04168574374 0.462679623172 0.87774 0.466872485869 0.887 1\n",
      "6 9.39961533484 0.42244895034 0.88648 0.433867281245 0.8955 1\n",
      "7 10.4556675636 0.394773948775 0.89376 0.412806593624 0.9012 1\n",
      "8 11.7014534274 0.377458855993 0.89906 0.39957180657 0.9057 1\n",
      "9 12.8834759093 0.36340051773 0.90238 0.389601071451 0.9072 1\n",
      "10 13.9331570657 0.346265819114 0.90648 0.376562844359 0.9102 1\n",
      "11 15.1360402694 0.332874476969 0.90908 0.366455217577 0.9137 1\n",
      "12 16.5675832586 0.31982417272 0.91206 0.356926987966 0.9158 1\n",
      "13 18.0058958191 0.30746770139 0.91494 0.347933006451 0.9181 1\n",
      "14 19.2911986648 0.297544538326 0.91736 0.341090541864 0.9187 1\n",
      "15 20.5808100281 0.288257329643 0.91938 0.334474357736 0.9201 1\n",
      "16 21.8485601831 0.279603197215 0.9217 0.328328760668 0.9221 1\n",
      "17 23.1419548309 0.271261648167 0.924 0.322019104337 0.9227 1\n",
      "18 24.4895221138 0.264364565798 0.92564 0.317412696012 0.9239 1\n",
      "19 25.9079686377 0.257838956139 0.92688 0.313036030881 0.9249 1\n",
      "20 27.3709644743 0.251998671286 0.92866 0.309210197956 0.9259 1\n",
      "21 28.76099174 0.246489442512 0.93002 0.305295697453 0.9266 1\n",
      "22 30.1411801456 0.240481048709 0.93176 0.301274239301 0.9272 1\n",
      "23 31.4439370613 0.234466278175 0.9333 0.296784016739 0.9277 1\n",
      "24 32.7733371711 0.230674293186 0.9343 0.294507265991 0.9284 1\n",
      "25 34.1107541133 0.224367385489 0.93574 0.289479969702 0.9296 1\n",
      "26 35.3993609739 0.219757145592 0.9373 0.286499877756 0.9304 1\n",
      "27 36.6925936338 0.215808473949 0.93838 0.283706448521 0.9315 1\n",
      "28 37.9804423203 0.211300414033 0.93936 0.280364100057 0.9323 1\n",
      "29 39.2815530298 0.208001233399 0.94026 0.278558942996 0.9331 1\n",
      "30 40.3254088741 0.203898513417 0.94148 0.275678058611 0.933 1\n",
      "31 41.3674373357 0.201014787202 0.94204 0.274117724486 0.9339 1\n",
      "32 42.5423890295 0.198708890941 0.9427 0.272438166992 0.9346 1\n",
      "33 43.6001084381 0.195658426743 0.94378 0.270792936036 0.9346 1\n",
      "34 44.6539669152 0.193117819593 0.9444 0.269366985826 0.9349 1\n",
      "35 45.7353784846 0.190521918829 0.9451 0.268123485577 0.9357 1\n",
      "36 46.7648955112 0.188029701504 0.946 0.266718592568 0.9365 1\n",
      "37 47.8099254321 0.185490903727 0.9467 0.2655737562 0.9373 1\n",
      "38 48.8782115301 0.183101681616 0.94748 0.264134418948 0.938 1\n",
      "39 49.9843429678 0.180892053208 0.94828 0.262868027594 0.9377 1\n",
      "40 51.0816918127 0.178460331704 0.9489 0.261771977978 0.9383 1\n",
      "41 52.1267244111 0.177302566291 0.94888 0.261113834872 0.9388 1\n",
      "42 53.3355949146 0.174855408154 0.94978 0.25977502065 0.9391 1\n",
      "43 54.442254709 0.173566061256 0.94956 0.259277148778 0.9393 1\n",
      "44 55.4885131487 0.171271118633 0.95054 0.258195403523 0.9392 1\n",
      "45 56.545916168 0.169833492524 0.95076 0.257903149975 0.9391 1\n",
      "46 57.6288931729 0.167265167766 0.9516 0.256200671985 0.9397 1\n",
      "47 58.7670923866 0.166212385925 0.95146 0.256262564836 0.9392 1\n",
      "48 59.8952554989 0.163696976202 0.9523 0.254994941403 0.9399 1\n",
      "49 61.0510355168 0.162284448133 0.95296 0.254641566652 0.9396 1\n",
      "50 62.0764885694 0.160836253499 0.95332 0.253889278016 0.9399 1\n",
      "51 63.0931675078 0.158998138777 0.954 0.25340330821 0.9407 1\n",
      "52 64.372849869 0.157906819 0.9543 0.253001707738 0.9406 1\n",
      "53 65.7964804477 0.1558601653 0.95494 0.252138456034 0.9413 1\n",
      "54 67.1689715339 0.153975464959 0.95564 0.251244835587 0.9417 1\n",
      "55 68.4511591273 0.152437985794 0.956 0.25050872672 0.9421 1\n",
      "56 69.8353900871 0.151110265692 0.9562 0.250131621802 0.9432 1\n",
      "57 71.2032611751 0.149651135257 0.95678 0.249659737417 0.9436 1\n",
      "58 72.5327304533 0.148052648713 0.95716 0.249137267771 0.9435 1\n",
      "59 73.9327491956 0.146763921847 0.95762 0.248892323131 0.9436 1\n",
      "60 75.2869909992 0.145605452597 0.95784 0.248650964807 0.9435 1\n",
      "61 76.6675203377 0.144111292887 0.9584 0.248244579855 0.9435 1\n",
      "62 77.9665667073 0.14292731572 0.95878 0.248048081469 0.9436 1\n",
      "63 79.2781771691 0.141615414825 0.95922 0.247614878138 0.9438 1\n",
      "64 80.6378386459 0.140627781386 0.95954 0.247567109658 0.9441 1\n",
      "65 81.9607940524 0.139500046942 0.95984 0.247225255093 0.9445 1\n",
      "66 83.3042656778 0.138194016564 0.96004 0.246741238313 0.9449 1\n",
      "67 84.6587520248 0.137176373189 0.96034 0.246779399634 0.9449 1\n",
      "68 85.9505491073 0.136281452886 0.96056 0.246898633167 0.9452 1\n",
      "69 87.3548638723 0.13505327208 0.96084 0.246520770185 0.9454 1\n",
      "70 88.6449821724 0.134109383058 0.96104 0.246331763477 0.9454 1\n",
      "71 89.7451553164 0.133162344161 0.96116 0.246442943447 0.9456 1\n",
      "72 90.7781021996 0.131958494914 0.9614 0.246248514952 0.9455 1\n",
      "73 91.84003329 0.131168825287 0.96186 0.246232138293 0.9454 1\n",
      "74 92.9751395638 0.130054974235 0.96204 0.246149896082 0.9455 1\n",
      "75 94.3420837963 0.129079052303 0.96234 0.245833790837 0.946 1\n",
      "76 95.4470393724 0.128119964195 0.9628 0.246050795473 0.9457 1\n",
      "77 96.5764189548 0.127194884223 0.96326 0.246029964287 0.9459 1\n",
      "78 97.7382134936 0.126535344326 0.96322 0.245910739831 0.9463 1\n",
      "79 98.8479291895 0.125636371605 0.9637 0.246068514052 0.9457 1\n",
      "80 100.017045754 0.124832932006 0.9638 0.245866844564 0.9461 1\n",
      "81 101.140722296 0.124179010304 0.96398 0.246165234593 0.9463 1\n",
      "82 102.223291877 0.123156482517 0.9641 0.245914708477 0.9462 1\n",
      "83 103.377147677 0.122426643466 0.9643 0.24607417678 0.9464 1\n",
      "84 104.513490502 0.121949184303 0.96448 0.246321541509 0.9463 1\n",
      "85 105.598015092 0.12118905141 0.96478 0.246332743348 0.9464 1\n",
      "86 106.735501649 0.120530494385 0.96502 0.246400428313 0.9467 1\n",
      "87 107.802673021 0.119834609652 0.96518 0.246651536354 0.9461 1\n",
      "88 108.926465588 0.11909028086 0.9652 0.246677391525 0.9467 1\n",
      "89 110.064931657 0.118730225809 0.96538 0.246861419466 0.9468 1\n",
      "90 111.132917877 0.117747273067 0.9654 0.246925894451 0.9468 1\n",
      "91 112.281936802 0.117674278058 0.96544 0.247363863255 0.9468 1\n",
      "92 113.415186688 0.116316982282 0.96552 0.247158151357 0.9469 1\n",
      "93 114.484079236 0.116127290353 0.96562 0.247139387644 0.9469 1\n",
      "94 115.607477766 0.114940437787 0.96608 0.247014898578 0.9469 1\n",
      "95 116.708542512 0.114636302214 0.96616 0.247465136815 0.947 1\n",
      "96 117.82581719 0.114354243801 0.96618 0.247649959684 0.947 1\n",
      "97 118.897856674 0.113441047853 0.9662 0.247758085479 0.947 1\n",
      "98 120.084082806 0.11275462226 0.96652 0.247935711127 0.9475 1\n",
      "99 121.188639883 0.112211201641 0.96648 0.248193562001 0.9473 1\n"
     ]
    }
   ],
   "source": [
    "eta = 1\n",
    "train_plot = []\n",
    "valid_plot = []\n",
    "\n",
    "for i in range(n_epoch):\n",
    "    for j in range(n_batch):\n",
    "\n",
    "        ### Mini-batch creation\n",
    "        batch, one_hot_batch, mini_batch_size = getMiniBatch(j, batch_size, train_set, one_hot)\n",
    "\n",
    "        prev_time = time.clock()\n",
    "\n",
    "        ### Forward propagation\n",
    "        Y,Yp = forward(act_func, W, B, batch)\n",
    "\n",
    "        ### Compute the softmax\n",
    "        out = softmax(Y[-1])\n",
    "        \n",
    "        ### Compute the gradient at the top layer\n",
    "        derror = out-one_hot_batch\n",
    "\n",
    "        ### Backpropagation\n",
    "        gradB = backward(derror, W, Yp)\n",
    "\n",
    "        ### Update the parameters\n",
    "        W, B = update(eta, batch_size, W, B, gradB, Y)\n",
    "\n",
    "        curr_time = time.clock()\n",
    "        cumul_time += curr_time - prev_time\n",
    "\n",
    "    ### Training accuracy\n",
    "    train_loss, train_accuracy = computeLoss(W, B, train_set[0], train_set[1], act_func) \n",
    "\n",
    "    ### Valid accuracy\n",
    "    valid_loss, valid_accuracy = computeLoss(W, B, valid_set[0], valid_set[1], act_func) \n",
    "\n",
    "    result_line = str(i) + \" \" + str(cumul_time) + \" \" + str(train_loss) + \" \" + str(train_accuracy) + \" \" + str(valid_loss) + \" \" + str(valid_accuracy) + \" \" + str(eta)\n",
    "\n",
    "    print(result_line)\n",
    "    \n",
    "    train_plot.append([train_loss, train_accuracy])\n",
    "    valid_plot.append([valid_loss, valid_accuracy])"
   ]
  },
  {
   "cell_type": "markdown",
   "metadata": {
    "collapsed": true
   },
   "source": [
    "# Result:\n",
    "Data set: MNIST\n",
    "\n",
    "activation function: Rectified Linear Uni a = max(0,z) , f' = (a[a>0]->1)\n",
    "\n",
    "train acc: 0.96648\n",
    "\n",
    "validation acc:0.9473"
   ]
  },
  {
   "cell_type": "code",
   "execution_count": null,
   "metadata": {
    "collapsed": false
   },
   "outputs": [],
   "source": []
  },
  {
   "cell_type": "code",
   "execution_count": 20,
   "metadata": {
    "collapsed": false,
    "scrolled": true
   },
   "outputs": [
    {
     "data": {
      "text/plain": [
       "<matplotlib.legend.Legend at 0x9d61748>"
      ]
     },
     "execution_count": 20,
     "metadata": {},
     "output_type": "execute_result"
    },
    {
     "data": {
      "image/png": "[encoded data removed]",
      "text/plain": [
       "<matplotlib.figure.Figure at 0x8604860>"
      ]
     },
     "metadata": {},
     "output_type": "display_data"
    }
   ],
   "source": [
    "plt.plot(np.transpose(train_plot)[1],label='train_acc')\n",
    "plt.plot(np.transpose(valid_plot)[1],label='valid_acc')\n",
    "plt.xlabel(\"epoch\")\n",
    "plt.ylim([0.,1.])\n",
    "plt.legend()"
   ]
  },
  {
   "cell_type": "code",
   "execution_count": null,
   "metadata": {
    "collapsed": false
   },
   "outputs": [],
   "source": []
  }
 ],
 "metadata": {
  "anaconda-cloud": {},
  "kernelspec": {
   "display_name": "Python [conda root]",
   "language": "python",
   "name": "conda-root-py"
  },
  "language_info": {
   "codemirror_mode": {
    "name": "ipython",
    "version": 2
   },
   "file_extension": ".py",
   "mimetype": "text/x-python",
   "name": "python",
   "nbconvert_exporter": "python",
   "pygments_lexer": "ipython2",
   "version": "2.7.12"
  }
 },
 "nbformat": 4,
 "nbformat_minor": 0
}
